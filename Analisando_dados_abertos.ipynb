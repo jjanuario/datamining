{
 "cells": [
  {
   "cell_type": "markdown",
   "metadata": {},
   "source": [
    "## São Paulo 04/07/2019 \n",
    "### Analisando dados abertos obtidos pelo portal da transparência\n",
    "#### jeferson@asterixsolucoes.com.br\n",
    "##### Dados: http://dados.gov.br/dataset/mec-pronatec-eptc"
   ]
  },
  {
   "cell_type": "code",
   "execution_count": 2,
   "metadata": {},
   "outputs": [],
   "source": [
    "# Importando as bibliotecas necessarias\n",
    "import pandas as pd"
   ]
  },
  {
   "cell_type": "code",
   "execution_count": 4,
   "metadata": {},
   "outputs": [],
   "source": [
    "# Lendo o arquivos CSV com seus campos separados por ';' e encoding cp1252\n",
    "# Encoding cp1252 geralmente é resultado de um arquivos Excel salvo como CSV.\n",
    "df = pd.read_csv('PDA_UNIDADES_RF_EPCT_CSV.csv', sep=';', encoding='cp1252')"
   ]
  },
  {
   "cell_type": "code",
   "execution_count": 5,
   "metadata": {},
   "outputs": [
    {
     "data": {
      "text/html": [
       "<div>\n",
       "<style scoped>\n",
       "    .dataframe tbody tr th:only-of-type {\n",
       "        vertical-align: middle;\n",
       "    }\n",
       "\n",
       "    .dataframe tbody tr th {\n",
       "        vertical-align: top;\n",
       "    }\n",
       "\n",
       "    .dataframe thead th {\n",
       "        text-align: right;\n",
       "    }\n",
       "</style>\n",
       "<table border=\"1\" class=\"dataframe\">\n",
       "  <thead>\n",
       "    <tr style=\"text-align: right;\">\n",
       "      <th></th>\n",
       "      <th>CODIGO_UNIDADE</th>\n",
       "      <th>NOME_UNIDADE</th>\n",
       "      <th>DT_AUTORIZA_FUNCIONA_UNID</th>\n",
       "      <th>NOME_REGIAO_UNIDADE</th>\n",
       "      <th>SIGLA_UF_UNIDADE</th>\n",
       "      <th>NOME_MUNICIPIO_UNIDADE</th>\n",
       "      <th>NOME_MESORREGIAO_UNIDADE</th>\n",
       "      <th>NOME_MICRORREGIAO_UNIDADE</th>\n",
       "    </tr>\n",
       "  </thead>\n",
       "  <tbody>\n",
       "    <tr>\n",
       "      <th>0</th>\n",
       "      <td>2879</td>\n",
       "      <td>INSTITUTO FEDERAL DA BAHIA - CAMPUS EUNÁPOLIS</td>\n",
       "      <td>07-01-2009</td>\n",
       "      <td>Nordeste</td>\n",
       "      <td>BA</td>\n",
       "      <td>Eunápolis</td>\n",
       "      <td>Sul Baiano</td>\n",
       "      <td>Porto Seguro</td>\n",
       "    </tr>\n",
       "    <tr>\n",
       "      <th>1</th>\n",
       "      <td>2948</td>\n",
       "      <td>INSTITUTO FEDERAL BAIANO - CAMPUS ITAPETINGA</td>\n",
       "      <td>07-01-2009</td>\n",
       "      <td>Nordeste</td>\n",
       "      <td>BA</td>\n",
       "      <td>Itapetinga</td>\n",
       "      <td>Centro Sul Baiano</td>\n",
       "      <td>Itapetinga</td>\n",
       "    </tr>\n",
       "  </tbody>\n",
       "</table>\n",
       "</div>"
      ],
      "text/plain": [
       "   CODIGO_UNIDADE                                   NOME_UNIDADE  \\\n",
       "0            2879  INSTITUTO FEDERAL DA BAHIA - CAMPUS EUNÁPOLIS   \n",
       "1            2948   INSTITUTO FEDERAL BAIANO - CAMPUS ITAPETINGA   \n",
       "\n",
       "  DT_AUTORIZA_FUNCIONA_UNID NOME_REGIAO_UNIDADE SIGLA_UF_UNIDADE  \\\n",
       "0                07-01-2009            Nordeste               BA   \n",
       "1                07-01-2009            Nordeste               BA   \n",
       "\n",
       "  NOME_MUNICIPIO_UNIDADE NOME_MESORREGIAO_UNIDADE NOME_MICRORREGIAO_UNIDADE  \n",
       "0              Eunápolis               Sul Baiano              Porto Seguro  \n",
       "1             Itapetinga        Centro Sul Baiano                Itapetinga  "
      ]
     },
     "execution_count": 5,
     "metadata": {},
     "output_type": "execute_result"
    }
   ],
   "source": [
    "#Lendo os dois priumeiros registros do arquivos.\n",
    "df.head(2)"
   ]
  },
  {
   "cell_type": "code",
   "execution_count": 6,
   "metadata": {},
   "outputs": [
    {
     "data": {
      "text/html": [
       "<div>\n",
       "<style scoped>\n",
       "    .dataframe tbody tr th:only-of-type {\n",
       "        vertical-align: middle;\n",
       "    }\n",
       "\n",
       "    .dataframe tbody tr th {\n",
       "        vertical-align: top;\n",
       "    }\n",
       "\n",
       "    .dataframe thead th {\n",
       "        text-align: right;\n",
       "    }\n",
       "</style>\n",
       "<table border=\"1\" class=\"dataframe\">\n",
       "  <thead>\n",
       "    <tr style=\"text-align: right;\">\n",
       "      <th></th>\n",
       "      <th>CODIGO_UNIDADE</th>\n",
       "      <th>NOME_UNIDADE</th>\n",
       "      <th>DT_AUTORIZA_FUNCIONA_UNID</th>\n",
       "      <th>NOME_REGIAO_UNIDADE</th>\n",
       "      <th>SIGLA_UF_UNIDADE</th>\n",
       "      <th>NOME_MUNICIPIO_UNIDADE</th>\n",
       "      <th>NOME_MESORREGIAO_UNIDADE</th>\n",
       "      <th>NOME_MICRORREGIAO_UNIDADE</th>\n",
       "    </tr>\n",
       "  </thead>\n",
       "  <tbody>\n",
       "    <tr>\n",
       "      <th>603</th>\n",
       "      <td>42053</td>\n",
       "      <td>INSTITUTO FEDERAL DO RIO GRANDE DO NORTE CAMPU...</td>\n",
       "      <td>31-12-2013</td>\n",
       "      <td>Nordeste</td>\n",
       "      <td>RN</td>\n",
       "      <td>Lajes</td>\n",
       "      <td>Central Potiguar</td>\n",
       "      <td>Angicos</td>\n",
       "    </tr>\n",
       "    <tr>\n",
       "      <th>604</th>\n",
       "      <td>13016</td>\n",
       "      <td>INSTITUTO FEDERAL DO RIO GRANDE DO NORTE - CAM...</td>\n",
       "      <td>28-07-2009</td>\n",
       "      <td>Nordeste</td>\n",
       "      <td>RN</td>\n",
       "      <td>Macau</td>\n",
       "      <td>Central Potiguar</td>\n",
       "      <td>Macau</td>\n",
       "    </tr>\n",
       "    <tr>\n",
       "      <th>605</th>\n",
       "      <td>3633</td>\n",
       "      <td>UNIVERSIDADE FEDERAL DO RIO GRANDE DO NORTE - ...</td>\n",
       "      <td>09-01-1964</td>\n",
       "      <td>Nordeste</td>\n",
       "      <td>RN</td>\n",
       "      <td>Natal</td>\n",
       "      <td>Leste Potiguar</td>\n",
       "      <td>Natal</td>\n",
       "    </tr>\n",
       "    <tr>\n",
       "      <th>606</th>\n",
       "      <td>20414</td>\n",
       "      <td>INSTITUTO FEDERAL DO RIO GRANDE DO NORTE - CAM...</td>\n",
       "      <td>29-12-2008</td>\n",
       "      <td>Nordeste</td>\n",
       "      <td>RN</td>\n",
       "      <td>Nova Cruz</td>\n",
       "      <td>Agreste Potiguar</td>\n",
       "      <td>Agreste Potiguar</td>\n",
       "    </tr>\n",
       "    <tr>\n",
       "      <th>607</th>\n",
       "      <td>13768</td>\n",
       "      <td>INSTITUTO FEDERAL DE RONDÔNIA - CAMPUS CACOAL</td>\n",
       "      <td>29-12-2008</td>\n",
       "      <td>Norte</td>\n",
       "      <td>RO</td>\n",
       "      <td>Cacoal</td>\n",
       "      <td>Leste Rondoniense</td>\n",
       "      <td>Cacoal</td>\n",
       "    </tr>\n",
       "    <tr>\n",
       "      <th>608</th>\n",
       "      <td>32051</td>\n",
       "      <td>INSTITUTO FEDERAL DE RONDÔNIA CAMPUS GUAJARÁMIRIM</td>\n",
       "      <td>28-12-2008</td>\n",
       "      <td>Norte</td>\n",
       "      <td>RO</td>\n",
       "      <td>Guajará-Mirim</td>\n",
       "      <td>Madeira-Guaporé</td>\n",
       "      <td>Guajará-Mirim</td>\n",
       "    </tr>\n",
       "    <tr>\n",
       "      <th>609</th>\n",
       "      <td>2812</td>\n",
       "      <td>INSTITUTO FEDERAL DE RORAIMA - CAMPUS NOVO PAR...</td>\n",
       "      <td>18-12-2006</td>\n",
       "      <td>Norte</td>\n",
       "      <td>RR</td>\n",
       "      <td>Caracaraí</td>\n",
       "      <td>Sul de Roraima</td>\n",
       "      <td>Caracaraí</td>\n",
       "    </tr>\n",
       "    <tr>\n",
       "      <th>610</th>\n",
       "      <td>30857</td>\n",
       "      <td>INSTITUTO FEDERAL DE SÃO PAULO CAMPUS CAMPINAS</td>\n",
       "      <td>02-07-2012</td>\n",
       "      <td>Sudeste</td>\n",
       "      <td>SP</td>\n",
       "      <td>Campinas</td>\n",
       "      <td>Campinas</td>\n",
       "      <td>Campinas</td>\n",
       "    </tr>\n",
       "    <tr>\n",
       "      <th>611</th>\n",
       "      <td>2830</td>\n",
       "      <td>INSTITUTO FEDERAL CATARINENSE - CAMPUS CONCÓRDIA</td>\n",
       "      <td>07-01-2009</td>\n",
       "      <td>Sul</td>\n",
       "      <td>SC</td>\n",
       "      <td>Concórdia</td>\n",
       "      <td>Oeste Catarinense</td>\n",
       "      <td>Concórdia</td>\n",
       "    </tr>\n",
       "    <tr>\n",
       "      <th>612</th>\n",
       "      <td>14256</td>\n",
       "      <td>INSTITUTO FEDERAL DE SANTA CATARINA - CAMPUS C...</td>\n",
       "      <td>07-01-2009</td>\n",
       "      <td>Sul</td>\n",
       "      <td>SC</td>\n",
       "      <td>Criciúma</td>\n",
       "      <td>Sul Catarinense</td>\n",
       "      <td>Criciúma</td>\n",
       "    </tr>\n",
       "    <tr>\n",
       "      <th>613</th>\n",
       "      <td>32008</td>\n",
       "      <td>INSTITUTO FEDERAL CATARINENSE CAMPUS AVANÇADO ...</td>\n",
       "      <td>22-01-2014</td>\n",
       "      <td>Sul</td>\n",
       "      <td>SC</td>\n",
       "      <td>Sombrio</td>\n",
       "      <td>Sul Catarinense</td>\n",
       "      <td>Araranguá</td>\n",
       "    </tr>\n",
       "    <tr>\n",
       "      <th>614</th>\n",
       "      <td>13699</td>\n",
       "      <td>INSTITUTO FEDERAL CATARINENSE - CAMPUS VIDEIRA</td>\n",
       "      <td>06-01-2010</td>\n",
       "      <td>Sul</td>\n",
       "      <td>SC</td>\n",
       "      <td>Videira</td>\n",
       "      <td>Oeste Catarinense</td>\n",
       "      <td>Joaçaba</td>\n",
       "    </tr>\n",
       "    <tr>\n",
       "      <th>615</th>\n",
       "      <td>14357</td>\n",
       "      <td>INSTITUTO FEDERAL DE SÃO PAULO - CAMPUS PRESID...</td>\n",
       "      <td>03-12-2010</td>\n",
       "      <td>Sudeste</td>\n",
       "      <td>SP</td>\n",
       "      <td>Presidente Epitácio</td>\n",
       "      <td>Presidente Prudente</td>\n",
       "      <td>Presidente Prudente</td>\n",
       "    </tr>\n",
       "    <tr>\n",
       "      <th>616</th>\n",
       "      <td>14037</td>\n",
       "      <td>INSTITUTO FEDERAL DE SÃO PAULO - CAMPUS SUZANO</td>\n",
       "      <td>30-12-2008</td>\n",
       "      <td>Sudeste</td>\n",
       "      <td>SP</td>\n",
       "      <td>Suzano</td>\n",
       "      <td>Metropolitana de São Paulo</td>\n",
       "      <td>Mogi das Cruzes</td>\n",
       "    </tr>\n",
       "    <tr>\n",
       "      <th>617</th>\n",
       "      <td>2970</td>\n",
       "      <td>INSTITUTO FEDERAL DO TOCANTINS - CAMPUS PALMAS</td>\n",
       "      <td>06-01-2009</td>\n",
       "      <td>Norte</td>\n",
       "      <td>TO</td>\n",
       "      <td>Palmas</td>\n",
       "      <td>Oriental do Tocantins</td>\n",
       "      <td>Porto Nacional</td>\n",
       "    </tr>\n",
       "  </tbody>\n",
       "</table>\n",
       "</div>"
      ],
      "text/plain": [
       "     CODIGO_UNIDADE                                       NOME_UNIDADE  \\\n",
       "603           42053  INSTITUTO FEDERAL DO RIO GRANDE DO NORTE CAMPU...   \n",
       "604           13016  INSTITUTO FEDERAL DO RIO GRANDE DO NORTE - CAM...   \n",
       "605            3633  UNIVERSIDADE FEDERAL DO RIO GRANDE DO NORTE - ...   \n",
       "606           20414  INSTITUTO FEDERAL DO RIO GRANDE DO NORTE - CAM...   \n",
       "607           13768      INSTITUTO FEDERAL DE RONDÔNIA - CAMPUS CACOAL   \n",
       "608           32051  INSTITUTO FEDERAL DE RONDÔNIA CAMPUS GUAJARÁMIRIM   \n",
       "609            2812  INSTITUTO FEDERAL DE RORAIMA - CAMPUS NOVO PAR...   \n",
       "610           30857     INSTITUTO FEDERAL DE SÃO PAULO CAMPUS CAMPINAS   \n",
       "611            2830   INSTITUTO FEDERAL CATARINENSE - CAMPUS CONCÓRDIA   \n",
       "612           14256  INSTITUTO FEDERAL DE SANTA CATARINA - CAMPUS C...   \n",
       "613           32008  INSTITUTO FEDERAL CATARINENSE CAMPUS AVANÇADO ...   \n",
       "614           13699     INSTITUTO FEDERAL CATARINENSE - CAMPUS VIDEIRA   \n",
       "615           14357  INSTITUTO FEDERAL DE SÃO PAULO - CAMPUS PRESID...   \n",
       "616           14037     INSTITUTO FEDERAL DE SÃO PAULO - CAMPUS SUZANO   \n",
       "617            2970     INSTITUTO FEDERAL DO TOCANTINS - CAMPUS PALMAS   \n",
       "\n",
       "    DT_AUTORIZA_FUNCIONA_UNID NOME_REGIAO_UNIDADE SIGLA_UF_UNIDADE  \\\n",
       "603                31-12-2013            Nordeste               RN   \n",
       "604                28-07-2009            Nordeste               RN   \n",
       "605                09-01-1964            Nordeste               RN   \n",
       "606                29-12-2008            Nordeste               RN   \n",
       "607                29-12-2008               Norte               RO   \n",
       "608                28-12-2008               Norte               RO   \n",
       "609                18-12-2006               Norte               RR   \n",
       "610                02-07-2012             Sudeste               SP   \n",
       "611                07-01-2009                 Sul               SC   \n",
       "612                07-01-2009                 Sul               SC   \n",
       "613                22-01-2014                 Sul               SC   \n",
       "614                06-01-2010                 Sul               SC   \n",
       "615                03-12-2010             Sudeste               SP   \n",
       "616                30-12-2008             Sudeste               SP   \n",
       "617                06-01-2009               Norte               TO   \n",
       "\n",
       "    NOME_MUNICIPIO_UNIDADE    NOME_MESORREGIAO_UNIDADE  \\\n",
       "603                  Lajes            Central Potiguar   \n",
       "604                  Macau            Central Potiguar   \n",
       "605                  Natal              Leste Potiguar   \n",
       "606              Nova Cruz            Agreste Potiguar   \n",
       "607                 Cacoal           Leste Rondoniense   \n",
       "608          Guajará-Mirim             Madeira-Guaporé   \n",
       "609              Caracaraí              Sul de Roraima   \n",
       "610               Campinas                    Campinas   \n",
       "611              Concórdia           Oeste Catarinense   \n",
       "612               Criciúma             Sul Catarinense   \n",
       "613                Sombrio             Sul Catarinense   \n",
       "614                Videira           Oeste Catarinense   \n",
       "615    Presidente Epitácio         Presidente Prudente   \n",
       "616                 Suzano  Metropolitana de São Paulo   \n",
       "617                 Palmas       Oriental do Tocantins   \n",
       "\n",
       "    NOME_MICRORREGIAO_UNIDADE  \n",
       "603                   Angicos  \n",
       "604                     Macau  \n",
       "605                     Natal  \n",
       "606          Agreste Potiguar  \n",
       "607                    Cacoal  \n",
       "608             Guajará-Mirim  \n",
       "609                 Caracaraí  \n",
       "610                  Campinas  \n",
       "611                 Concórdia  \n",
       "612                  Criciúma  \n",
       "613                 Araranguá  \n",
       "614                   Joaçaba  \n",
       "615       Presidente Prudente  \n",
       "616           Mogi das Cruzes  \n",
       "617            Porto Nacional  "
      ]
     },
     "execution_count": 6,
     "metadata": {},
     "output_type": "execute_result"
    }
   ],
   "source": [
    "#Lendo os ultimos 15 registros do arquivo\n",
    "df.tail(15)"
   ]
  },
  {
   "cell_type": "code",
   "execution_count": 8,
   "metadata": {},
   "outputs": [
    {
     "data": {
      "text/plain": [
       "CODIGO_UNIDADE               618\n",
       "NOME_UNIDADE                 618\n",
       "DT_AUTORIZA_FUNCIONA_UNID    618\n",
       "NOME_REGIAO_UNIDADE          618\n",
       "SIGLA_UF_UNIDADE             618\n",
       "NOME_MUNICIPIO_UNIDADE       618\n",
       "NOME_MESORREGIAO_UNIDADE     618\n",
       "NOME_MICRORREGIAO_UNIDADE    618\n",
       "dtype: int64"
      ]
     },
     "execution_count": 8,
     "metadata": {},
     "output_type": "execute_result"
    }
   ],
   "source": [
    "# Cada linha corresponde a uma unidade, assim efetuando a contagem das linhas temos o numero de unidades.\n",
    "df.count()"
   ]
  },
  {
   "cell_type": "code",
   "execution_count": 11,
   "metadata": {},
   "outputs": [
    {
     "data": {
      "text/plain": [
       "CODIGO_UNIDADE                int64\n",
       "NOME_UNIDADE                 object\n",
       "DT_AUTORIZA_FUNCIONA_UNID    object\n",
       "NOME_REGIAO_UNIDADE          object\n",
       "SIGLA_UF_UNIDADE             object\n",
       "NOME_MUNICIPIO_UNIDADE       object\n",
       "NOME_MESORREGIAO_UNIDADE     object\n",
       "NOME_MICRORREGIAO_UNIDADE    object\n",
       "dtype: object"
      ]
     },
     "execution_count": 11,
     "metadata": {},
     "output_type": "execute_result"
    }
   ],
   "source": [
    "# Mostra os tipos de cada coluna do DataFrame \n",
    "# PS. object é um tipo generico indica que não foi reconhecido. \n",
    "df.dtypes"
   ]
  },
  {
   "cell_type": "code",
   "execution_count": 12,
   "metadata": {},
   "outputs": [
    {
     "data": {
      "text/plain": [
       "Nordeste        202\n",
       "Sudeste         163\n",
       "Sul             116\n",
       "Norte            70\n",
       "Centro-Oeste     67\n",
       "Name: NOME_REGIAO_UNIDADE, dtype: int64"
      ]
     },
     "execution_count": 12,
     "metadata": {},
     "output_type": "execute_result"
    }
   ],
   "source": [
    "# Quantas escolas existem em cada regiao\n",
    "df['NOME_REGIAO_UNIDADE'].value_counts()"
   ]
  },
  {
   "cell_type": "code",
   "execution_count": 13,
   "metadata": {},
   "outputs": [
    {
     "data": {
      "text/plain": [
       "MG    67\n",
       "RS    45\n",
       "RJ    39\n",
       "SC    36\n",
       "SP    35\n",
       "PR    35\n",
       "BA    34\n",
       "MA    27\n",
       "CE    27\n",
       "GO    26\n",
       "RN    23\n",
       "PI    23\n",
       "PE    23\n",
       "ES    22\n",
       "PB    21\n",
       "PA    20\n",
       "MT    19\n",
       "AL    16\n",
       "AM    15\n",
       "TO    11\n",
       "DF    11\n",
       "MS    11\n",
       "RO     8\n",
       "SE     8\n",
       "RR     6\n",
       "AC     6\n",
       "AP     4\n",
       "Name: SIGLA_UF_UNIDADE, dtype: int64"
      ]
     },
     "execution_count": 13,
     "metadata": {},
     "output_type": "execute_result"
    }
   ],
   "source": [
    "# Quantas escolas por estado\n",
    "df['SIGLA_UF_UNIDADE'].value_counts()"
   ]
  },
  {
   "cell_type": "code",
   "execution_count": 16,
   "metadata": {},
   "outputs": [],
   "source": [
    "# Melhorando a visualização utilizando graficos para mostrar o conteudo.\n",
    "#Precisamos informar que visualiaremos os dados no jupyter (inline)\n",
    "%matplotlib inline"
   ]
  },
  {
   "cell_type": "code",
   "execution_count": 17,
   "metadata": {},
   "outputs": [
    {
     "data": {
      "text/plain": [
       "<matplotlib.axes._subplots.AxesSubplot at 0x223760bd438>"
      ]
     },
     "execution_count": 17,
     "metadata": {},
     "output_type": "execute_result"
    },
    {
     "data": {
      "image/png": "[encoded data removed]",
      "text/plain": [
       "<Figure size 432x288 with 1 Axes>"
      ]
     },
     "metadata": {
      "needs_background": "light"
     },
     "output_type": "display_data"
    }
   ],
   "source": [
    "# Monstrando grafico de barras de unidade por UF\n",
    "df['SIGLA_UF_UNIDADE'].value_counts().plot.bar()"
   ]
  },
  {
   "cell_type": "code",
   "execution_count": 19,
   "metadata": {},
   "outputs": [
    {
     "data": {
      "text/plain": [
       "<matplotlib.axes._subplots.AxesSubplot at 0x22376238f28>"
      ]
     },
     "execution_count": 19,
     "metadata": {},
     "output_type": "execute_result"
    },
    {
     "data": {
      "image/png": "[encoded data removed]",
      "text/plain": [
       "<Figure size 432x288 with 1 Axes>"
      ]
     },
     "metadata": {},
     "output_type": "display_data"
    }
   ],
   "source": [
    "# Monstrando grafico de Pizza de unidade por UF\n",
    "df['SIGLA_UF_UNIDADE'].value_counts().plot.pie()"
   ]
  },
  {
   "cell_type": "code",
   "execution_count": 22,
   "metadata": {},
   "outputs": [
    {
     "data": {
      "text/plain": [
       "<matplotlib.axes._subplots.AxesSubplot at 0x223762fabe0>"
      ]
     },
     "execution_count": 22,
     "metadata": {},
     "output_type": "execute_result"
    },
    {
     "data": {
      "image/png": "[encoded data removed]",
      "text/plain": [
       "<Figure size 432x288 with 1 Axes>"
      ]
     },
     "metadata": {
      "needs_background": "light"
     },
     "output_type": "display_data"
    }
   ],
   "source": [
    "#Agora um grafico pizza por regiao\n",
    "\n",
    "df['NOME_REGIAO_UNIDADE'].value_counts().plot.bar()"
   ]
  },
  {
   "cell_type": "code",
   "execution_count": 32,
   "metadata": {},
   "outputs": [
    {
     "data": {
      "text/plain": [
       "Metropolitana do Rio de Janeiro     22\n",
       "Metropolitana de Porto Alegre       14\n",
       "Metropolitana de Belo Horizonte     13\n",
       "Oeste Catarinense                   11\n",
       "Leste Alagoano                      11\n",
       "Triângulo Mineiro/Alto Paranaíba    11\n",
       "Central Espírito-santense           11\n",
       "Distrito Federal                    11\n",
       "Centro Amazonense                   10\n",
       "Norte Maranhense                    10\n",
       "Centro Goiano                       10\n",
       "Leste Potiguar                      10\n",
       "Noroeste Rio-grandense              10\n",
       "Zona da Mata                         9\n",
       "Sul/Sudoeste de Minas                9\n",
       "Centro-Norte Piauiense               9\n",
       "Metropolitana de Recife              8\n",
       "Norte Mato-grossense                 8\n",
       "Centro Sul Baiano                    7\n",
       "Metropolitana de Salvador            7\n",
       "Metropolitana de Curitiba            7\n",
       "Vale do Itajaí                       7\n",
       "Sertão Paraibano                     7\n",
       "Sul Goiano                           7\n",
       "Ocidental do Tocantins               7\n",
       "Sul Baiano                           7\n",
       "Norte Catarinense                    6\n",
       "Sul Catarinense                      6\n",
       "Sudoeste Piauiense                   6\n",
       "Mata Paraibana                       6\n",
       "                                    ..\n",
       "Sudeste Mato-grossense               2\n",
       "Agreste Alagoano                     2\n",
       "Centro Oriental Rio-grandense        2\n",
       "Baixo Amazonas                       2\n",
       "Sul Amazonense                       2\n",
       "Noroeste de Minas                    2\n",
       "Leste de Mato Grosso do Sul          2\n",
       "São José do Rio Preto                2\n",
       "Norte Goiano                         2\n",
       "Serrana                              2\n",
       "Sudoeste Amazonense                  2\n",
       "Nordeste Mato-grossense              2\n",
       "Noroeste Paranaense                  2\n",
       "Borborema                            2\n",
       "Centro Ocidental Paranaense          2\n",
       "Baixadas                             2\n",
       "Sudoeste Mato-grossense              2\n",
       "Bauru                                1\n",
       "Sertão Sergipano                     1\n",
       "Central Mineira                      1\n",
       "Extremo Oeste Baiano                 1\n",
       "Litoral Sul Paulista                 1\n",
       "Marajó                               1\n",
       "Noroeste Goiano                      1\n",
       "Centro Fluminense                    1\n",
       "Sul de Roraima                       1\n",
       "Vale do Mucuri                       1\n",
       "Norte Amazonense                     1\n",
       "Marília                              1\n",
       "Presidente Prudente                  1\n",
       "Name: NOME_MESORREGIAO_UNIDADE, Length: 135, dtype: int64"
      ]
     },
     "execution_count": 32,
     "metadata": {},
     "output_type": "execute_result"
    }
   ],
   "source": [
    "# Unidades por municipio\n",
    "df['NOME_MESORREGIAO_UNIDADE'].value_counts()"
   ]
  },
  {
   "cell_type": "code",
   "execution_count": null,
   "metadata": {},
   "outputs": [],
   "source": []
  }
 ],
 "metadata": {
  "kernelspec": {
   "display_name": "Python 3",
   "language": "python",
   "name": "python3"
  },
  "language_info": {
   "codemirror_mode": {
    "name": "ipython",
    "version": 3
   },
   "file_extension": ".py",
   "mimetype": "text/x-python",
   "name": "python",
   "nbconvert_exporter": "python",
   "pygments_lexer": "ipython3",
   "version": "3.7.1"
  }
 },
 "nbformat": 4,
 "nbformat_minor": 2
}
